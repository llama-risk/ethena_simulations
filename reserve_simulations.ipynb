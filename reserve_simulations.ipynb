{
 "cells": [
  {
   "cell_type": "markdown",
   "source": [
    "### Ethena USDe reserve fund drawdown simulations\n",
    "Evaluating different stress scenarios which could cause reserve fund drawdowns"
   ],
   "metadata": {
    "collapsed": false
   },
   "id": "2289f5f6b8db2e8f"
  },
  {
   "cell_type": "code",
   "execution_count": null,
   "outputs": [],
   "source": [
    "import matplotlib.pyplot as plt"
   ],
   "metadata": {
    "collapsed": false
   },
   "id": "c2fa3b3a51a17e16"
  },
  {
   "cell_type": "code",
   "execution_count": null,
   "outputs": [],
   "source": [
    "def get_daily_drawdown(total_exposure, funding_rate):\n",
    "    \"\"\"\n",
    "    Calculate the daily drawdown given an annualized funding rate and total exposure to perpetual positions.\n",
    "    \"\"\"\n",
    "    daily_rate = funding_rate / 365\n",
    "    return total_exposure * daily_rate"
   ],
   "metadata": {
    "collapsed": false
   },
   "id": "af0bf228f57d604a"
  },
  {
   "cell_type": "code",
   "execution_count": null,
   "outputs": [],
   "source": [
    "def get_daily_lst_gain(total_exposure, lst_proportion, lst_rate):\n",
    "    \"\"\"\n",
    "    Calculate the daily yield of LST collateral given an LST APY.\n",
    "    \"\"\"\n",
    "    daily_rate = lst_rate / 365\n",
    "    return total_exposure * lst_proportion * daily_rate"
   ],
   "metadata": {
    "collapsed": false
   },
   "id": "d03459a56d2f75ab"
  },
  {
   "cell_type": "code",
   "execution_count": null,
   "outputs": [],
   "source": [
    "def run_simulation(total_exposure, initial_reserve_fund, annualized_funding_rates, lst_rate=0, lst_proportion=0):\n",
    "    \"\"\"\n",
    "    Run the simulation until the reserve fund is depleted. Can optionally add LST rate.\n",
    "    \"\"\"\n",
    "    results = {}\n",
    "    for rate in annualized_funding_rates:\n",
    "        daily_drawdown = get_daily_drawdown(total_exposure, rate)\n",
    "        daily_lst_gain = get_daily_lst_gain(total_exposure, lst_proportion, lst_rate)\n",
    "        reserve_fund = initial_reserve_fund\n",
    "        fund_values = [reserve_fund]\n",
    "        while reserve_fund > 0:\n",
    "            reserve_fund += daily_drawdown\n",
    "            reserve_fund += daily_lst_gain\n",
    "            if reserve_fund < 0:\n",
    "                reserve_fund = 0\n",
    "            fund_values.append(reserve_fund)\n",
    "\n",
    "        results[rate] = fund_values\n",
    "    return results"
   ],
   "metadata": {
    "collapsed": false
   },
   "id": "6e379ddb8b0ed460"
  },
  {
   "cell_type": "code",
   "execution_count": null,
   "outputs": [],
   "source": [
    "def plot_results(results, past_results=None, tick_size=3):\n",
    "    \"\"\"\n",
    "    Plot the results for different funding rates.\n",
    "    Optionally compare with past results using dashed lines.\n",
    "    \n",
    "    Parameters:\n",
    "    - results: dict, current results to be plotted\n",
    "    - past_results: dict, past results to be compared\n",
    "    \"\"\"\n",
    "    plt.figure(figsize=(12, 8))\n",
    "\n",
    "    # Plot current results\n",
    "    for rate, values in results.items():\n",
    "        plt.plot(values, label=f'Funding Rate: {rate*100}%', linestyle='solid')\n",
    "\n",
    "    # Plot past results if provided\n",
    "    if past_results:\n",
    "        for rate, values in past_results.items():\n",
    "            plt.plot(values, label=f'Funding Rate: {rate*100}%', linestyle='dashed')\n",
    "\n",
    "    max_days = max(len(values) for values in results.values())\n",
    "    if past_results:\n",
    "        max_new = max(len(values) for values in past_results.values())\n",
    "        max_days = max(max_days, max_new)\n",
    "    plt.xticks(range(0, max_days, tick_size))\n",
    "\n",
    "    plt.title('Reserve Fund Drawdown Over Time')\n",
    "    plt.xlabel('Days')\n",
    "    plt.ylabel('Reserve Fund Value (USD)')\n",
    "    plt.legend()\n",
    "    plt.grid(True)\n",
    "    plt.show()"
   ],
   "metadata": {
    "collapsed": false
   },
   "id": "aca1b5a52189b08f"
  },
  {
   "cell_type": "markdown",
   "source": [
    "**Scenario 1:** Negative funding rates, market reaction is neutral and reserve fund asset liquidity is not impacted"
   ],
   "metadata": {
    "collapsed": false
   },
   "id": "608cef7e6ff88126"
  },
  {
   "cell_type": "code",
   "execution_count": null,
   "outputs": [],
   "source": [
    "# Parameters\n",
    "total_exposure = 3500000000 # $3.5B\n",
    "reserve_fund = 44000000 # $44M\n",
    "annualized_funding_rates = [-0.05, -0.10, -0.25, -0.50]\n",
    "lst_rate = 0.05\n",
    "lst_proportion = 0.11\n",
    "\n",
    "# Simulation\n",
    "results = run_simulation(total_exposure, reserve_fund, annualized_funding_rates)\n",
    "plot_results(results)"
   ],
   "metadata": {
    "collapsed": false
   },
   "id": "b573ffabc8796c4d"
  },
  {
   "cell_type": "code",
   "execution_count": null,
   "outputs": [],
   "source": [
    "for rate, values in results.items():\n",
    "    print(rate, \": \", len(values))"
   ],
   "metadata": {
    "collapsed": false
   },
   "id": "a03a639502a32c60"
  },
  {
   "cell_type": "markdown",
   "source": [
    "**Evaluating the likelihood of such situations based on historical data**\n",
    "\n",
    "Based on historical funding rate data analysis which covers data from all 4 CEX that Ethena uses, we have performed reserve fund drawdown analysis and observed that from 2019-09 to 2024-05 there has been an isolated instance where negative funding rates would have drained the reserve fund:\n",
    "\n",
    "Negative average annualized funding rates of -27% were persistent for 24 days from the 23rd of August, 2022 to 16th of September, 2022.\n",
    "\n",
    "However, there are two assumptions made in this simulation:\n",
    "1) All of the positions are held in ETH perps\n",
    "2) The negative periods end as soon as there is a single day with positive funding rates. In reality, there could be two non-overlapping negative periods one after another.\n",
    "\n",
    "| threshold_group | count | likelihood | mean\\_length\\_hours | probability  |\n",
    "|:----------------|:------|:-----------|:--------------------|:-------------|\n",
    "| &lt;= -50%      | 10    | 0.024752   | 177.600000          | 3.392286e-01 |\n",
    "| &lt;= -25%      | 20    | 0.049505   | 156.000000          | 6.271022e-02 |\n",
    "| &lt;= -10%      | 47    | 0.116337   | 95.489362           | 7.408858e-06 |\n",
    "| &lt;= -5%       | 173   | 0.428218   | 62.705202           | 1.109738e-17 |\n"
   ],
   "metadata": {
    "collapsed": false
   },
   "id": "4fbd5f198c9a4ea4"
  },
  {
   "cell_type": "markdown",
   "source": [
    "**Scenario 2:** Negative funding rates, market reaction is negative and therefore liquidity of the reserve fund gets affected. Uniswap V3 Pool positions and sDAI get discounted by [5%, 10%, 20%] while USDT keeps the peg and is not affected."
   ],
   "metadata": {
    "collapsed": false
   },
   "id": "6be7a78e0f110502"
  },
  {
   "cell_type": "code",
   "execution_count": null,
   "outputs": [],
   "source": [
    "# Parameters\n",
    "total_exposure = 3500000000 # $3.5B\n",
    "reserve_fund = 44000000 # $44M\n",
    "sdai_position = 15500000 # $15.5M\n",
    "uniswap_position = 11400000 # $11.4M\n",
    "discount_factors = [0.05, 0.1, 0.2, 0.3]\n",
    "annualized_funding_rates = [-0.05, -0.10, -0.25, -0.50]\n",
    "lst_rate = 0.05\n",
    "lst_proportion = 0.11\n",
    "\n",
    "# Simulations\n",
    "for discount in discount_factors:\n",
    "    reserve_fund_discounted = reserve_fund - (uniswap_position * discount)\n",
    "    results = run_simulation(total_exposure, reserve_fund_discounted, annualized_funding_rates, lst_rate, lst_proportion)\n",
    "    past_results = run_simulation(total_exposure, reserve_fund, annualized_funding_rates, lst_rate, lst_proportion)\n",
    "    plot_results(results, past_results)\n",
    "    for rate, values in results.items():\n",
    "        print(rate, \": \", len(values))\n",
    "    print(reserve_fund_discounted)"
   ],
   "metadata": {
    "collapsed": false
   },
   "id": "21769afd925d166f"
  },
  {
   "cell_type": "markdown",
   "source": [
    "**Evaluating likelihood of such situations based on historical data**\n",
    "In this scenario when a 20% discount is applied, one additional instance of reserve fund depletion is observed during a 21-day period in July, 2021. Moreover, due to a lower liquid value of the reserve fund, the likelihood of the depletion increases.\n",
    "\n",
    "| threshold\\_group | count<br/> | likelihood<br/> | mean\\_length\\_hours<br/> | probability<br/> |\n",
    "|:-----------------| :--- | :--- | :--- | :--- |\n",
    "| &lt;= -50%       | 10 | 0.024752 | 177.600000 | 3.883121e-01 |\n",
    "| &lt;= -25%       | 20 | 0.049505 | 156.000000 | 9.949058e-02 |\n",
    "| &lt;= -10%       | 47 | 0.116337 | 95.489362 | 5.533311e-05 |\n",
    "| &lt;= -5%        | 173 | 0.428218 | 62.705202 | 1.597584e-14 |\n",
    "\n"
   ],
   "metadata": {
    "collapsed": false
   },
   "id": "a058e99b35bb8a10"
  },
  {
   "cell_type": "markdown",
   "source": [
    "**Scenario 3:** Funding rates are negative, market volatility is persisent and users start to redeem USDe for collateral forcing Ethena to close perpetual positions incurring slippage. Let's assume that users will only start to redeem USDe 5 days after the first drawdown of reserve fund.\n",
    "\n",
    "USDe redeems are limited at 2M per block. They are also limited by the amount of collateral that a contract possesses. If the MintBurn contract does not possess enough collateral, redeeming will not be possible. Collateral can only be supplied manually by custodians. Therefore, Ethena only holds a small portion of collateral in the contract, and we can safely assume that they will try to mitigate the slippage impact by slowing down the collateral swaps by the custodians. However, Ethena can also completely pause redeeming on the contract level. We suppose that it would cause instant market panic and de-peg of USDe on secondary markets.\n",
    "\n",
    "As historical slippage reference, ChaosLabs results were re-used for the purpose of this scenario. ChaosLabs estimated the upper bound on the slippage (in bps) incurred when executing the trades:\n",
    "\n",
    "| Trade      | Median         | 95%       | 99%  |\n",
    "|:-----------|:---------------|:----------|:-----|\n",
    "| 500 ETH    | 1.8            | 3.5       | 4.4  |\n",
    "| 1,000 ETH  | 2.8            | 5.1       | 7.0  |\n",
    "| 5,000 ETH  | 10.6 | 17.4      | 23.1 |\n",
    "| 10,000 ETH | 21.8 | 35.0 | 50.8 |"
   ],
   "metadata": {
    "collapsed": false
   },
   "id": "e5da08076a6a7ac7"
  },
  {
   "cell_type": "code",
   "execution_count": null,
   "outputs": [],
   "source": [
    "def calculate_slippage(percentages, total_position_usd, slippage_bps):\n",
    "    \"\"\"\n",
    "    Calculate the total slippage when given percentages of USDe is redeemed and sold for collateral.\n",
    "    \"\"\"\n",
    "    slippage_rate = slippage_bps / 10000  # Convert basis points to decimal\n",
    "    slippage_costs = []\n",
    "\n",
    "    for percentage in percentages:\n",
    "        amount_to_be_sold_usd = (percentage / 100) * total_position_usd\n",
    "        total_slippage = amount_to_be_sold_usd * slippage_rate\n",
    "        slippage_costs.append(total_slippage)\n",
    "\n",
    "    return slippage_costs\n"
   ],
   "metadata": {
    "collapsed": false
   },
   "id": "538357cb7f5419d0"
  },
  {
   "cell_type": "code",
   "execution_count": null,
   "outputs": [],
   "source": [
    "percentages = [10, 20, 30, 40, 50]\n",
    "total_position_usd = 3.5e9  # 3.5 billion USD\n",
    "slippage_bps = 50.8  # 50.8 basis points\n",
    "\n",
    "slippage_costs = calculate_slippage(percentages, total_position_usd, slippage_bps)\n",
    "print(slippage_costs)\n",
    "\n",
    "# Simulations\n",
    "for slippage in slippage_costs:\n",
    "    reserve_fund_discounted = reserve_fund - slippage\n",
    "    results = run_simulation(total_exposure, reserve_fund_discounted, annualized_funding_rates, lst_rate, lst_proportion)\n",
    "    past_results = run_simulation(total_exposure, reserve_fund, annualized_funding_rates, lst_rate, lst_proportion)\n",
    "    plot_results(results, past_results)\n",
    "    for rate, values in results.items():\n",
    "        print(rate, \": \", len(values))\n",
    "    print(reserve_fund_discounted)"
   ],
   "metadata": {
    "collapsed": false
   },
   "id": "3c16143294007b88"
  },
  {
   "cell_type": "markdown",
   "source": [
    "**Scenario 4:** Scenario 2 and 3 combined. This would mean that the assets get discounted and USDe gets redeemed, amplifying the effects."
   ],
   "metadata": {
    "collapsed": false
   },
   "id": "c93f2b5a1ab80028"
  },
  {
   "cell_type": "code",
   "execution_count": null,
   "outputs": [],
   "source": [
    "# Simulations\n",
    "for slippage in slippage_costs:\n",
    "    for discount in discount_factors:\n",
    "        reserve_fund_discounted = reserve_fund - slippage - (uniswap_position * discount)\n",
    "        results = run_simulation(total_exposure, reserve_fund_discounted, annualized_funding_rates, lst_rate, lst_proportion)\n",
    "        past_results = run_simulation(total_exposure, reserve_fund, annualized_funding_rates, lst_rate, lst_proportion)\n",
    "        plot_results(results, past_results)\n",
    "        for rate, values in results.items():\n",
    "            print(rate, \": \", len(values))\n",
    "        print(reserve_fund_discounted)"
   ],
   "metadata": {
    "collapsed": false
   },
   "id": "7a862744cc14166b"
  },
  {
   "cell_type": "markdown",
   "source": [
    "The results indicate that even with up to 50% redeems and a discount of 30% on assets in the reserve fund, Ethena would have at least 6 days to acquire additional funds before the reserve fund would be emptied. However, it is clear that to be better insured against persisting adverse market conditions, Ethena should define a clear long term strategy to augment the reserve fund capital. "
   ],
   "metadata": {
    "collapsed": false
   },
   "id": "b60551f5c871442"
  },
  {
   "cell_type": "code",
   "execution_count": null,
   "outputs": [],
   "source": [
    "reserve_fund_expected = 115000000 # $115M\n",
    "reserve_fund_actual = 44000000 # $44M\n",
    "# Simulations\n",
    "for slippage in slippage_costs:\n",
    "    for discount in discount_factors:\n",
    "        reserve_fund_actual_discounted = reserve_fund_actual - slippage - (uniswap_position * discount)\n",
    "        reserve_fund_expected_discounted = reserve_fund_expected - slippage - (uniswap_position * discount)\n",
    "        results = run_simulation(total_exposure, reserve_fund_expected_discounted, annualized_funding_rates, lst_rate, lst_proportion)\n",
    "        past_results = run_simulation(total_exposure, reserve_fund_actual_discounted, annualized_funding_rates, lst_rate, lst_proportion)\n",
    "        plot_results(results, past_results)\n",
    "        for rate, values in results.items():\n",
    "            print(rate, \": \", len(values))\n",
    "        print(reserve_fund_actual_discounted)"
   ],
   "metadata": {
    "collapsed": false
   },
   "id": "9b992ab38262f435"
  },
  {
   "cell_type": "markdown",
   "source": [
    "### Observations"
   ],
   "metadata": {
    "collapsed": false
   },
   "id": "f64167f7686a64b1"
  }
 ],
 "metadata": {
  "kernelspec": {
   "display_name": "Python 3",
   "language": "python",
   "name": "python3"
  },
  "language_info": {
   "codemirror_mode": {
    "name": "ipython",
    "version": 2
   },
   "file_extension": ".py",
   "mimetype": "text/x-python",
   "name": "python",
   "nbconvert_exporter": "python",
   "pygments_lexer": "ipython2",
   "version": "2.7.6"
  }
 },
 "nbformat": 4,
 "nbformat_minor": 5
}
